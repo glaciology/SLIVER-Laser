{
 "cells": [
  {
   "cell_type": "code",
   "execution_count": null,
   "metadata": {},
   "outputs": [],
   "source": [
    "\"\"\"\n",
    "Cleaning and Linking SLIVER Laser + OGRE \n",
    "\n",
    "This script processes and links the SLIVER laser range data with positional\n",
    "OGRE data. It cleans, parses, and merges the datasets and generates vizualizations \n",
    "of the map-view and along-track data. \n",
    "\n",
    "Data are available at https://conus.summitcamp.org/mirror/summit/ftp/science/ICESat/ICESat_data/\n",
    "and OGRE .pos files are easily generated in Emlid Studio! \n",
    "\n",
    "If there are multiple .SCK files for the traverse, just use the function parse_laser_data for \n",
    "all of them, and then concatenate! \n",
    "\n",
    "If there are chunks of missing data (as there might be in the case of multiple .SCK files),\n",
    "use the cumulative distance step cautiously... reference the map view! You'll want to look \n",
    "at the periods of continuous data along-track.\n",
    "\n",
    "\"\"\""
   ]
  },
  {
   "cell_type": "code",
   "execution_count": null,
   "metadata": {},
   "outputs": [],
   "source": [
    "# Import necessary libraries \n",
    "\n",
    "import pandas as pd \n",
    "import numpy as np \n",
    "import datetime\n",
    "import matplotlib.pyplot as plt \n",
    "from math import radians, sin, cos, atan2, sqrt "
   ]
  },
  {
   "cell_type": "code",
   "execution_count": null,
   "metadata": {},
   "outputs": [],
   "source": [
    "# Load OGRE .pos file \n",
    "ogre_pos = pd.read_csv( \n",
    "    './path/to/OGRE/posfile.pos', \n",
    "    skiprows=10, \n",
    "    delim_whitespace=10, \n",
    "    header=None\n",
    ") \n",
    "\n",
    "# Assign column names to .pos \n",
    "ogre_pos.columns = [ \n",
    "    'Date', 'Time', 'Latitude', 'Longitude', 'Height', \n",
    "    'Q', 'ns', 'sdn', 'sde', 'sdu', 'sdne', 'sdeu', \n",
    "    'sdun', 'age', 'ratio'\n",
    "] \n",
    "\n",
    "# Combine date and time columns into a single timestamp \n",
    "ogre_pos['timestamp'] = pd.to_datetime( \n",
    "    ogre_pos['Date'] + ' ' + ogre_pos['Time'],\n",
    "    format='%Y/%m/%d %H:%M:%S.%f'\n",
    ") "
   ]
  },
  {
   "cell_type": "code",
   "execution_count": null,
   "metadata": {},
   "outputs": [],
   "source": [
    "def parse_laser_data(filepath): \n",
    "    \"\"\"\n",
    "    Function to parse laser range data from a file, skipping lines with \n",
    "    corrupted formats and handling errors. \n",
    "\n",
    "    Parameters: \n",
    "    - filepath (str): Path to laser data file (.SCK)\n",
    "\n",
    "    Returns: \n",
    "    - pd.DataFrame: DF with parsed timestamps and range values\n",
    "    \"\"\"\n",
    "\n",
    "    data = [] # Empty list to hold parsed data \n",
    "\n",
    "    with open(filepath, 'r') as file: \n",
    "        for line_number, line in enumerate(file): \n",
    "            # Skip lines with GPS fixes or headers \n",
    "            if line.startswith(\"#\") or line.startswith(\"$GPRMC\") or not line.strip():\n",
    "                continue\n",
    "\n",
    "            parts = line.strip().split() # Split the line into parts \n",
    "\n",
    "            # Check if the line has the expected number of entries \n",
    "            if len(parts) < 7:\n",
    "                print(f\"[Line {line_number}] Skipping line due to unexpected format: {line}\")\n",
    "                continue \n",
    "\n",
    "            try: \n",
    "                # Parse date and time components if corrects entries are present in the line \n",
    "                day, month, year = int(parts[0]), int(parts[1]), int(parts[2])\n",
    "                hour, minute, second = int(parts[3]), int(parts[4]), float(parts[5])\n",
    "                timestamp = datetime.datetime(year + 2000, month, day, hour, minute, int(second), int((second % 1) * 1e6))\n",
    "                \n",
    "                # Parse range value \n",
    "                range_value = float(parts[6])\n",
    "                data.append([timestamp, range_value])\n",
    "            except (ValueError, IndexError) as e:\n",
    "                # Handle parsing errors \n",
    "                print(f\"[Line {line_number}] Error parsing line: {line}. Error: {e}\")\n",
    "                continue\n",
    "\n",
    "    # Create a DataFrame from the parsed data \n",
    "    laser_df = pd.DataFrame(data, columns=[\"timestamp\", \"range\"])\n",
    "    laser_df['timestamp'] = pd.to_datetime(laser_df['timestamp'], errors='coerce')\n",
    "    return laser_df  "
   ]
  },
  {
   "cell_type": "code",
   "execution_count": null,
   "metadata": {},
   "outputs": [],
   "source": [
    "# Parse the SICK laser data \n",
    "sck = parse_laser_data('./path/to/SICK/file.SCK')\n",
    "\n",
    "# If you have multiple SICK files, concatenate into one with pd.concat: \n",
    "# Ex: sck = pd.concat([sck0, sck1, sck2])"
   ]
  },
  {
   "cell_type": "code",
   "execution_count": null,
   "metadata": {},
   "outputs": [],
   "source": [
    "# Merge the laser and positional data based on the nearest timestamp \n",
    "df = pd.merge_asof(\n",
    "    sck.sort_values('timestamp'), \n",
    "    ogre_pos.sort_values('timestamp'), \n",
    "    left_on='timestamp', \n",
    "    right_on='timestamp', \n",
    "    direction='nearest'\n",
    ")\n",
    "\n",
    "# Calculate true surface elevation in centimeters \n",
    "df['elevation'] = (df['Height'] - df['range']) * 100"
   ]
  },
  {
   "cell_type": "code",
   "execution_count": null,
   "metadata": {},
   "outputs": [],
   "source": [
    "def haversine(lat1, lon1, lat2, lon2):\n",
    "    \"\"\"\n",
    "    Function using the Haversine formula to calculate the distance\n",
    "    between two points. \n",
    "\n",
    "    Parameters: \n",
    "    - lat1, lon1, lat2, lon2 (float): Latitude and longitude (degrees) of the two points \n",
    "\n",
    "    Returns: \n",
    "    - float: Distance between the two points in meters \n",
    "    \"\"\"\n",
    "\n",
    "    R = 6371000 # Earth's radius in meters \n",
    "    lat1 = radians(lat1) # Convert degrees to radians \n",
    "    lon1 = radians(lon1)\n",
    "    lat2 = radians(lat2)\n",
    "    lon2 = radians(lon2)\n",
    "    dlat = lat2 - lat1 # Difference in lats and lons \n",
    "    dlon = lon2 - lon1 \n",
    "    a = sin(dlat/2)**2 + cos(lat1) * cos(lat2) * sin(dlon/2)**2 # Haversine formula \n",
    "    c = 2 * atan2(sqrt(a), sqrt(1 - a)) \n",
    "    distance = R * c # Distance in meters \n",
    "    return distance "
   ]
  },
  {
   "cell_type": "code",
   "execution_count": null,
   "metadata": {},
   "outputs": [],
   "source": [
    "# Compute cumulative distances alnog the track \n",
    "cumulative_distance = 0.0\n",
    "previous_point = None\n",
    "cumulative_distances = [] # List to store cumulative distances \n",
    "\n",
    "for index, row in df.iterrows():\n",
    "    if previous_point is not None:\n",
    "        # Calculate the distance between consecutive points \n",
    "        distance = haversine(previous_point['Latitude'], previous_point['Longitude'], row['Latitude'], row['Longitude'])\n",
    "        cumulative_distance += distance # Update cumulative distance \n",
    "    else:\n",
    "        # Initialize for the first point \n",
    "        distance = 0.0\n",
    "        cumulative_distance = 0.0\n",
    "    cumulative_distances.append(cumulative_distance) # Append cumulative distances \n",
    "    previous_point = row # Update the previous point \n",
    "\n",
    "df['Distance'] = cumulative_distances  # Add cumulative distances to the DataFrame "
   ]
  },
  {
   "cell_type": "code",
   "execution_count": null,
   "metadata": {},
   "outputs": [],
   "source": [
    "# Plot a map view of the traverse lat/lons \n",
    "plt.figure()\n",
    "plt.scatter(df['Longitude'], df['Latitude'], s=1)\n",
    "plt.title('Map-view plot of ICESat Traverse')\n",
    "plt.xlabel('Longitude(Deg)')\n",
    "plt.ylabel('Latitude(Deg)')\n",
    "plt.show()"
   ]
  },
  {
   "cell_type": "code",
   "execution_count": null,
   "metadata": {},
   "outputs": [],
   "source": [
    "# Plot along-track elevation data \n",
    "plt.figure()\n",
    "plt.scatter(df['Distance'], df['range'], s=1)\n",
    "plt.title('Elevations Along-Track')\n",
    "plt.xlabel('Distance Along-Track [m]')\n",
    "plt.ylabel('Distance From Laser [m]')\n",
    "plt.show()"
   ]
  }
 ],
 "metadata": {
  "kernelspec": {
   "display_name": "Python 3",
   "language": "python",
   "name": "python3"
  },
  "language_info": {
   "codemirror_mode": {
    "name": "ipython",
    "version": 3
   },
   "file_extension": ".py",
   "mimetype": "text/x-python",
   "name": "python",
   "nbconvert_exporter": "python",
   "pygments_lexer": "ipython3",
   "version": "3.11.3"
  }
 },
 "nbformat": 4,
 "nbformat_minor": 2
}
